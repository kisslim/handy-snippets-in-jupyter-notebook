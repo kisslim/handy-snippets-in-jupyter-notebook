{
 "cells": [
  {
   "cell_type": "code",
   "execution_count": 4,
   "id": "50e24004",
   "metadata": {},
   "outputs": [],
   "source": [
    "# enumerate dates from 2008\n",
    "\n",
    "import datetime\n",
    "\n",
    "def yield_datetime(start: datetime.datetime, end: datetime.datetime = None):\n",
    "    # endless loop if end is not specified\n",
    "    if end is None:    \n",
    "        while True:\n",
    "            yield start\n",
    "            start += datetime.timedelta(days=1)\n",
    "    else:\n",
    "        while start < end:\n",
    "            yield start\n",
    "            start += datetime.timedelta(days=1)"
   ]
  },
  {
   "cell_type": "code",
   "execution_count": null,
   "id": "20406b00",
   "metadata": {},
   "outputs": [
    {
     "name": "stdout",
     "output_type": "stream",
     "text": [
      "\u001b[31mSignature:\u001b[39m\n",
      "writer.create_warc_record(\n",
      "    uri,\n",
      "    record_type,\n",
      "    payload=\u001b[38;5;28;01mNone\u001b[39;00m,\n",
      "    length=\u001b[38;5;28;01mNone\u001b[39;00m,\n",
      "    warc_content_type=\u001b[33m''\u001b[39m,\n",
      "    warc_headers_dict=\u001b[38;5;28;01mNone\u001b[39;00m,\n",
      "    warc_headers=\u001b[38;5;28;01mNone\u001b[39;00m,\n",
      "    http_headers=\u001b[38;5;28;01mNone\u001b[39;00m,\n",
      ")\n",
      "\u001b[31mDocstring:\u001b[39m <no docstring>\n",
      "\u001b[31mFile:\u001b[39m      /workspaces/handy-snippets-in-jupyter-notebook/.venv/lib/python3.12/site-packages/warcio/recordbuilder.py\n",
      "\u001b[31mType:\u001b[39m      method"
     ]
    }
   ],
   "source": [
    "!pip install warcio\n",
    "import warcio\n",
    "?warcio.WARCWriter\n",
    "writer = warcio.WARCWriter(None)\n",
    "?writer.create_warc_record"
   ]
  },
  {
   "cell_type": "code",
   "execution_count": null,
   "id": "b657dbe4",
   "metadata": {},
   "outputs": [
    {
     "name": "stderr",
     "output_type": "stream",
     "text": [
      "  0%|          | 0/6443 [00:00<?, ?it/s]\n"
     ]
    },
    {
     "ename": "TypeError",
     "evalue": "'WARCWriter' object does not support the context manager protocol",
     "output_type": "error",
     "traceback": [
      "\u001b[31m---------------------------------------------------------------------------\u001b[39m",
      "\u001b[31mTypeError\u001b[39m                                 Traceback (most recent call last)",
      "\u001b[36mCell\u001b[39m\u001b[36m \u001b[39m\u001b[32mIn[9]\u001b[39m\u001b[32m, line 14\u001b[39m\n\u001b[32m     11\u001b[39m r = requests.get(url)\n\u001b[32m     12\u001b[39m \u001b[38;5;28;01mif\u001b[39;00m r.status_code == \u001b[32m200\u001b[39m:\n\u001b[32m     13\u001b[39m     \u001b[38;5;66;03m# AttributeError: module 'warcio' has no attribute 'WarcFile'\u001b[39;00m\n\u001b[32m---> \u001b[39m\u001b[32m14\u001b[39m \u001b[43m    \u001b[49m\u001b[38;5;28;43;01mwith\u001b[39;49;00m\u001b[43m \u001b[49m\u001b[43mwarcio\u001b[49m\u001b[43m.\u001b[49m\u001b[43mWARCWriter\u001b[49m\u001b[43m(\u001b[49m\u001b[33;43m\"\u001b[39;49m\u001b[33;43munwire.hk.warc\u001b[39;49m\u001b[33;43m\"\u001b[39;49m\u001b[43m)\u001b[49m\u001b[43m \u001b[49m\u001b[38;5;28;43;01mas\u001b[39;49;00m\u001b[43m \u001b[49m\u001b[43mwf\u001b[49m\u001b[43m:\u001b[49m\n\u001b[32m     15\u001b[39m \u001b[43m        \u001b[49m\u001b[38;5;66;43;03m# write to unwire.hk.warc\u001b[39;49;00m\n\u001b[32m     16\u001b[39m \u001b[43m        \u001b[49m\u001b[43mwf\u001b[49m\u001b[43m.\u001b[49m\u001b[43mwrite\u001b[49m\u001b[43m(\u001b[49m\u001b[43mr\u001b[49m\u001b[43m.\u001b[49m\u001b[43mraw\u001b[49m\u001b[43m)\u001b[49m\n",
      "\u001b[31mTypeError\u001b[39m: 'WARCWriter' object does not support the context manager protocol"
     ]
    }
   ],
   "source": [
    "!pip install requests\n",
    "import requests\n",
    "\n",
    "# read all dates like https://unwire.hk/2025/08/21/\n",
    "\n",
    "# save them as common crawl format (see https://commoncrawl.org/the-data/)\n",
    "\n",
    "!pip install tqdm\n",
    "from tqdm.auto import tqdm\n",
    "for date in tqdm(list(yield_datetime(datetime.datetime(2008, 1, 1), end=datetime.datetime.today()))):\n",
    "    url = f\"https://unwire.hk/{date:%Y/%m/%d}/\"\n",
    "    r = requests.get(url)\n",
    "    if r.status_code == 200:\n",
    "        # AttributeError: module 'warcio' has no attribute 'WarcFile'\n",
    "        with open(\"unwire.hk.warc\", \"ab\") as f:\n",
    "            writer = warcio.WARCWriter(f)\n",
    "            writer.create_warc_record(uri=url)"
   ]
  },
  {
   "cell_type": "code",
   "execution_count": 20,
   "id": "b35f181e",
   "metadata": {},
   "outputs": [
    {
     "name": "stdout",
     "output_type": "stream",
     "text": [
      "Requirement already satisfied: beautifulsoup4 in /workspaces/handy-snippets-in-jupyter-notebook/.venv/lib/python3.12/site-packages (4.13.4)\n",
      "Requirement already satisfied: soupsieve>1.2 in /workspaces/handy-snippets-in-jupyter-notebook/.venv/lib/python3.12/site-packages (from beautifulsoup4) (2.7)\n",
      "Requirement already satisfied: typing-extensions>=4.0.0 in /workspaces/handy-snippets-in-jupyter-notebook/.venv/lib/python3.12/site-packages (from beautifulsoup4) (4.14.1)\n"
     ]
    }
   ],
   "source": [
    "!pip install beautifulsoup4\n",
    "from bs4 import BeautifulSoup\n",
    "soup = BeautifulSoup(r.content, \"html.parser\")"
   ]
  },
  {
   "cell_type": "code",
   "execution_count": 24,
   "id": "98299054",
   "metadata": {},
   "outputs": [
    {
     "name": "stdout",
     "output_type": "stream",
     "text": [
      "Requirement already satisfied: pandas in /workspaces/handy-snippets-in-jupyter-notebook/.venv/lib/python3.12/site-packages (2.3.1)\n",
      "Requirement already satisfied: numpy>=1.26.0 in /workspaces/handy-snippets-in-jupyter-notebook/.venv/lib/python3.12/site-packages (from pandas) (2.3.2)\n",
      "Requirement already satisfied: python-dateutil>=2.8.2 in /workspaces/handy-snippets-in-jupyter-notebook/.venv/lib/python3.12/site-packages (from pandas) (2.9.0.post0)\n",
      "Requirement already satisfied: pytz>=2020.1 in /workspaces/handy-snippets-in-jupyter-notebook/.venv/lib/python3.12/site-packages (from pandas) (2025.2)\n",
      "Requirement already satisfied: tzdata>=2022.7 in /workspaces/handy-snippets-in-jupyter-notebook/.venv/lib/python3.12/site-packages (from pandas) (2025.2)\n",
      "Requirement already satisfied: six>=1.5 in /workspaces/handy-snippets-in-jupyter-notebook/.venv/lib/python3.12/site-packages (from python-dateutil>=2.8.2->pandas) (1.17.0)\n"
     ]
    },
    {
     "data": {
      "text/plain": [
       "0              [[], []]\n",
       "1             [[Learn]]\n",
       "2       [GenAI 與雲端科技專區]\n",
       "3       [ERP 與商業 AI 專區]\n",
       "4     [Galaxy Z Fold 7]\n",
       "            ...        \n",
       "80             [網站活動報告]\n",
       "81               [重點推介]\n",
       "82          [unwire TV]\n",
       "83          [unwire TV]\n",
       "84          [Cookie 政策]\n",
       "Length: 85, dtype: object"
      ]
     },
     "execution_count": 24,
     "metadata": {},
     "output_type": "execute_result"
    }
   ],
   "source": [
    "!pip install pandas\n",
    "import pandas as pd\n",
    "alist = pd.Series(soup.find_all(\"a\"))\n",
    "alist"
   ]
  },
  {
   "cell_type": "code",
   "execution_count": 25,
   "id": "ef76189c",
   "metadata": {},
   "outputs": [
    {
     "data": {
      "text/plain": [
       "0                                    https://unwire.hk/\n",
       "1                                https://list.unwire.hk\n",
       "2                    https://unwire.hk/tag/genai-cloud/\n",
       "3                https://unwire.hk/tag/erp-business-ai/\n",
       "4                https://unwire.hk/tag/galaxy-z-fold-7/\n",
       "                            ...                        \n",
       "80    https://unwire.hk/category/site_news/event-rep...\n",
       "81                 https://unwire.hk/category/headline/\n",
       "82           https://unwire.hk/category/unwire_podcast/\n",
       "83                         https://unwire.hk/unwire-tv/\n",
       "84                                                    #\n",
       "Length: 85, dtype: object"
      ]
     },
     "execution_count": 25,
     "metadata": {},
     "output_type": "execute_result"
    }
   ],
   "source": [
    "alist.apply(lambda x: x.get(\"href\"))"
   ]
  },
  {
   "cell_type": "code",
   "execution_count": 28,
   "id": "73634086",
   "metadata": {},
   "outputs": [],
   "source": [
    "import bs4\n",
    "def get_css_selector_for_element(element: bs4.element.Tag):\n",
    "    # get ancestors\n",
    "    ancestors = []\n",
    "    while element.parent:\n",
    "        ancestors.append(element.name)\n",
    "        element = element.parent\n",
    "    ancestors.reverse()\n",
    "    # get css selector\n",
    "    css_selector = \"\"\n",
    "    for ancestor in ancestors:\n",
    "        css_selector += f\"{ancestor} > \"\n",
    "    css_selector += element.name\n",
    "    return css_selector"
   ]
  },
  {
   "cell_type": "code",
   "execution_count": 30,
   "id": "afccf2c2",
   "metadata": {},
   "outputs": [
    {
     "data": {
      "text/plain": [
       "html > body > header > div > div > ul > li > a > [document]                                                                   43\n",
       "html > body > header > div > div > div > div > div > div > div > ul > li > li > li > div > ul > li > span > a > [document]    12\n",
       "html > body > header > div > div > div > div > div > div > div > ul > li > li > div > ul > li > span > a > [document]          8\n",
       "html > body > header > div > div > div > div > div > div > div > ul > li > div > ul > li > span > a > [document]               7\n",
       "html > body > header > div > div > div > div > div > div > div > ul > li > li > li > span > a > [document]                     5\n",
       "html > body > header > div > div > div > div > div > div > div > ul > li > span > a > [document]                               4\n",
       "html > body > header > div > div > div > div > div > div > div > ul > li > li > span > a > [document]                          2\n",
       "html > body > header > div > ul > li > a > [document]                                                                          1\n",
       "html > body > header > div > div > a > [document]                                                                              1\n",
       "html > body > header > div > div > div > div > div > a > [document]                                                            1\n",
       "html > body > div > div > a > [document]                                                                                       1\n",
       "Name: count, dtype: int64"
      ]
     },
     "execution_count": 30,
     "metadata": {},
     "output_type": "execute_result"
    }
   ],
   "source": [
    "alist.apply(get_css_selector_for_element).value_counts()"
   ]
  },
  {
   "cell_type": "code",
   "execution_count": null,
   "id": "1a32bb8d",
   "metadata": {},
   "outputs": [],
   "source": []
  }
 ],
 "metadata": {
  "kernelspec": {
   "display_name": ".venv",
   "language": "python",
   "name": "python3"
  },
  "language_info": {
   "codemirror_mode": {
    "name": "ipython",
    "version": 3
   },
   "file_extension": ".py",
   "mimetype": "text/x-python",
   "name": "python",
   "nbconvert_exporter": "python",
   "pygments_lexer": "ipython3",
   "version": "3.12.1"
  }
 },
 "nbformat": 4,
 "nbformat_minor": 5
}
