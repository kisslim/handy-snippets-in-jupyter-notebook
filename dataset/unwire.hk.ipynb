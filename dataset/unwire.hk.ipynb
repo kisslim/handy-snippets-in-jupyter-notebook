{
 "cells": [
  {
   "cell_type": "code",
   "execution_count": 3,
   "id": "50e24004",
   "metadata": {},
   "outputs": [],
   "source": [
    "# enumerate dates from 2008\n",
    "\n",
    "import datetime\n",
    "\n",
    "def yield_datetime(start: datetime.datetime, end: datetime.datetime = None):\n",
    "    # endless loop if end is not specified\n",
    "    if end is None:    \n",
    "        while True:\n",
    "            yield start\n",
    "            start += datetime.timedelta(days=1)\n",
    "    else:\n",
    "        while start < end:\n",
    "            yield start\n",
    "            start += datetime.timedelta(days=1)"
   ]
  },
  {
   "cell_type": "code",
   "execution_count": 4,
   "id": "20406b00",
   "metadata": {},
   "outputs": [
    {
     "name": "stdout",
     "output_type": "stream",
     "text": [
      "Requirement already satisfied: warcio in /workspaces/handy-snippets-in-jupyter-notebook/.venv/lib/python3.12/site-packages (1.7.5)\n",
      "Requirement already satisfied: six in /workspaces/handy-snippets-in-jupyter-notebook/.venv/lib/python3.12/site-packages (from warcio) (1.17.0)\n"
     ]
    },
    {
     "name": "stdout",
     "output_type": "stream",
     "text": [
      "\u001b[31mSignature:\u001b[39m\n",
      "writer.create_warc_record(\n",
      "    uri,\n",
      "    record_type,\n",
      "    payload=\u001b[38;5;28;01mNone\u001b[39;00m,\n",
      "    length=\u001b[38;5;28;01mNone\u001b[39;00m,\n",
      "    warc_content_type=\u001b[33m''\u001b[39m,\n",
      "    warc_headers_dict=\u001b[38;5;28;01mNone\u001b[39;00m,\n",
      "    warc_headers=\u001b[38;5;28;01mNone\u001b[39;00m,\n",
      "    http_headers=\u001b[38;5;28;01mNone\u001b[39;00m,\n",
      ")\n",
      "\u001b[31mDocstring:\u001b[39m <no docstring>\n",
      "\u001b[31mFile:\u001b[39m      /workspaces/handy-snippets-in-jupyter-notebook/.venv/lib/python3.12/site-packages/warcio/recordbuilder.py\n",
      "\u001b[31mType:\u001b[39m      method"
     ]
    }
   ],
   "source": [
    "!pip install warcio\n",
    "import warcio\n",
    "?warcio.WARCWriter\n",
    "writer = warcio.WARCWriter(None)\n",
    "?writer.create_warc_record"
   ]
  },
  {
   "cell_type": "code",
   "execution_count": 5,
   "id": "8bd1d787",
   "metadata": {},
   "outputs": [
    {
     "name": "stdout",
     "output_type": "stream",
     "text": [
      "Requirement already satisfied: pytest in /workspaces/handy-snippets-in-jupyter-notebook/.venv/lib/python3.12/site-packages (8.4.1)\n",
      "Requirement already satisfied: iniconfig>=1 in /workspaces/handy-snippets-in-jupyter-notebook/.venv/lib/python3.12/site-packages (from pytest) (2.1.0)\n",
      "Requirement already satisfied: packaging>=20 in /workspaces/handy-snippets-in-jupyter-notebook/.venv/lib/python3.12/site-packages (from pytest) (25.0)\n",
      "Requirement already satisfied: pluggy<2,>=1.5 in /workspaces/handy-snippets-in-jupyter-notebook/.venv/lib/python3.12/site-packages (from pytest) (1.6.0)\n",
      "Requirement already satisfied: pygments>=2.7.2 in /workspaces/handy-snippets-in-jupyter-notebook/.venv/lib/python3.12/site-packages (from pytest) (2.19.2)\n"
     ]
    }
   ],
   "source": [
    "!pip install pytest\n",
    "# create a block except exception to raise TypeError    \n",
    "import pytest\n",
    "\n",
    "with pytest.raises(TypeError):\n",
    "    raise TypeError\n"
   ]
  },
  {
   "cell_type": "code",
   "execution_count": 6,
   "id": "b657dbe4",
   "metadata": {},
   "outputs": [
    {
     "name": "stdout",
     "output_type": "stream",
     "text": [
      "Requirement already satisfied: requests in /workspaces/handy-snippets-in-jupyter-notebook/.venv/lib/python3.12/site-packages (2.32.5)\n",
      "Requirement already satisfied: charset_normalizer<4,>=2 in /workspaces/handy-snippets-in-jupyter-notebook/.venv/lib/python3.12/site-packages (from requests) (3.4.3)\n",
      "Requirement already satisfied: idna<4,>=2.5 in /workspaces/handy-snippets-in-jupyter-notebook/.venv/lib/python3.12/site-packages (from requests) (3.10)\n",
      "Requirement already satisfied: urllib3<3,>=1.21.1 in /workspaces/handy-snippets-in-jupyter-notebook/.venv/lib/python3.12/site-packages (from requests) (2.5.0)\n",
      "Requirement already satisfied: certifi>=2017.4.17 in /workspaces/handy-snippets-in-jupyter-notebook/.venv/lib/python3.12/site-packages (from requests) (2025.8.3)\n",
      "Requirement already satisfied: tqdm in /workspaces/handy-snippets-in-jupyter-notebook/.venv/lib/python3.12/site-packages (4.67.1)\n"
     ]
    },
    {
     "name": "stderr",
     "output_type": "stream",
     "text": [
      "  0%|          | 0/6071 [00:00<?, ?it/s]\n"
     ]
    }
   ],
   "source": [
    "!pip install requests\n",
    "import requests\n",
    "\n",
    "# read all dates like https://unwire.hk/2025/08/21/\n",
    "\n",
    "# save them as common crawl format (see https://commoncrawl.org/the-data/)\n",
    "import pytest\n",
    "\n",
    "!pip install tqdm\n",
    "from tqdm.auto import tqdm\n",
    "with pytest.raises(TypeError):\n",
    "    for date in tqdm(list(yield_datetime(datetime.datetime(2009, 1, 7), end=datetime.datetime.today()))):\n",
    "        url = f\"https://unwire.hk/{date:%Y/%m/%d}/\"\n",
    "        r = requests.get(url)\n",
    "        if r.status_code == 200:\n",
    "            # AttributeError: module 'warcio' has no attribute 'WarcFile'\n",
    "            with open(\"unwire.hk.warc\", \"ab\") as f:\n",
    "                writer = warcio.WARCWriter(f)\n",
    "                writer.create_warc_record(uri=url)"
   ]
  },
  {
   "cell_type": "code",
   "execution_count": 7,
   "id": "b35f181e",
   "metadata": {},
   "outputs": [
    {
     "name": "stdout",
     "output_type": "stream",
     "text": [
      "Requirement already satisfied: beautifulsoup4 in /workspaces/handy-snippets-in-jupyter-notebook/.venv/lib/python3.12/site-packages (4.13.4)\n",
      "Requirement already satisfied: soupsieve>1.2 in /workspaces/handy-snippets-in-jupyter-notebook/.venv/lib/python3.12/site-packages (from beautifulsoup4) (2.7)\n",
      "Requirement already satisfied: typing-extensions>=4.0.0 in /workspaces/handy-snippets-in-jupyter-notebook/.venv/lib/python3.12/site-packages (from beautifulsoup4) (4.14.1)\n"
     ]
    }
   ],
   "source": [
    "!pip install beautifulsoup4\n",
    "from bs4 import BeautifulSoup\n",
    "soup = BeautifulSoup(r.content, \"html.parser\")"
   ]
  },
  {
   "cell_type": "code",
   "execution_count": 8,
   "id": "98299054",
   "metadata": {},
   "outputs": [
    {
     "name": "stdout",
     "output_type": "stream",
     "text": [
      "Requirement already satisfied: pandas in /workspaces/handy-snippets-in-jupyter-notebook/.venv/lib/python3.12/site-packages (2.3.1)\n",
      "Requirement already satisfied: numpy>=1.26.0 in /workspaces/handy-snippets-in-jupyter-notebook/.venv/lib/python3.12/site-packages (from pandas) (2.3.2)\n",
      "Requirement already satisfied: python-dateutil>=2.8.2 in /workspaces/handy-snippets-in-jupyter-notebook/.venv/lib/python3.12/site-packages (from pandas) (2.9.0.post0)\n",
      "Requirement already satisfied: pytz>=2020.1 in /workspaces/handy-snippets-in-jupyter-notebook/.venv/lib/python3.12/site-packages (from pandas) (2025.2)\n",
      "Requirement already satisfied: tzdata>=2022.7 in /workspaces/handy-snippets-in-jupyter-notebook/.venv/lib/python3.12/site-packages (from pandas) (2025.2)\n",
      "Requirement already satisfied: six>=1.5 in /workspaces/handy-snippets-in-jupyter-notebook/.venv/lib/python3.12/site-packages (from python-dateutil>=2.8.2->pandas) (1.17.0)\n"
     ]
    },
    {
     "data": {
      "text/plain": [
       "0                                [[], []]\n",
       "1                               [[Learn]]\n",
       "2                         [GenAI 與雲端科技專區]\n",
       "3                         [ERP 與商業 AI 專區]\n",
       "4                       [Galaxy Z Fold 7]\n",
       "                      ...                \n",
       "103                              [作者忘記分類]\n",
       "104    [HP Pavilion dv2－首部 AMD Neo 平台現身！]\n",
       "105                                  [[]]\n",
       "106                                  [[]]\n",
       "107                                  [[]]\n",
       "Length: 108, dtype: object"
      ]
     },
     "execution_count": 8,
     "metadata": {},
     "output_type": "execute_result"
    }
   ],
   "source": [
    "!pip install pandas\n",
    "import pandas as pd\n",
    "alist = pd.Series(soup.find_all(\"a\"))\n",
    "alist"
   ]
  },
  {
   "cell_type": "code",
   "execution_count": 9,
   "id": "ef76189c",
   "metadata": {},
   "outputs": [
    {
     "data": {
      "text/plain": [
       "0                                     https://unwire.hk/\n",
       "1                                 https://list.unwire.hk\n",
       "2                     https://unwire.hk/tag/genai-cloud/\n",
       "3                 https://unwire.hk/tag/erp-business-ai/\n",
       "4                 https://unwire.hk/tag/galaxy-z-fold-7/\n",
       "                             ...                        \n",
       "103                     https://unwire.hk/category/news/\n",
       "104    https://unwire.hk/2009/01/07/hp-pavilion-dv2%e...\n",
       "105    https://www.facebook.com/sharer.php?u=https://...\n",
       "106    https://twitter.com/intent/tweet?url=https://u...\n",
       "107                                                _self\n",
       "Length: 108, dtype: object"
      ]
     },
     "execution_count": 9,
     "metadata": {},
     "output_type": "execute_result"
    }
   ],
   "source": [
    "alist.apply(lambda x: x.get(\"href\"))"
   ]
  },
  {
   "cell_type": "code",
   "execution_count": 10,
   "id": "73634086",
   "metadata": {},
   "outputs": [],
   "source": [
    "import bs4\n",
    "def get_css_selector_for_element(element: bs4.element.Tag):\n",
    "    # get ancestors\n",
    "    ancestors = []\n",
    "    while element is not None:\n",
    "        # use id, class-name, tag-name in order\n",
    "        if element.has_attr(\"id\"):\n",
    "            ancestors.append(f\"#{element['id']}\")\n",
    "            # id is unique, so stop\n",
    "            break\n",
    "        elif element.has_attr(\"class\"):\n",
    "            ancestors.append(f\".{element['class'][0]}\")\n",
    "        else:\n",
    "            ancestors.append(element.name)\n",
    "        element = element.parent\n",
    "    ancestors.reverse()\n",
    "    del ancestors[0]\n",
    "    # print(ancestors)\n",
    "    # get css selector\n",
    "    css_selector = \" > \".join(ancestors)\n",
    "    return css_selector"
   ]
  },
  {
   "cell_type": "code",
   "execution_count": 11,
   "id": "afccf2c2",
   "metadata": {},
   "outputs": [
    {
     "data": {
      "text/plain": [
       ".no-js > .archive > .site-header > .top-bar-tags > .top-bar-tags-container > ul > li > a                                                            43\n",
       ".menu-section > ul > li > li > li > .sub-list > ul > li > span > a                                                                                  12\n",
       ".menu-section > ul > li > li > .sub-list > ul > li > span > a                                                                                        8\n",
       ".menu-section > ul > li > .sub-list > ul > li > span > a                                                                                             7\n",
       ".menu-section > ul > li > li > li > .first-level > a                                                                                                 5\n",
       ".main-content-container > .article-section > .articles-container > ul > li > .post-content > .post-meta > .post-meta-share > ul > li > .twitter      4\n",
       ".main-content-container > .article-section > .articles-container > ul > li > .post-content > .categories > .level-1 > a                              4\n",
       ".main-content-container > .article-section > .articles-container > ul > li > .post-content > .title > a                                              4\n",
       ".main-content-container > .article-section > .articles-container > ul > li > .post-content > .post-meta > .post-meta-share > ul > li > .facebook     4\n",
       ".main-content-container > .article-section > .articles-container > ul > li > .featured-image-container > .featured-image                             4\n",
       ".menu-section > ul > li > .first-level > a                                                                                                           3\n",
       ".menu-section > ul > li > li > .first-level > a                                                                                                      2\n",
       "                                                                                                                                                     1\n",
       "li > .learn                                                                                                                                          1\n",
       ".no-js > .archive > .site-header > .top-bar-left > .site-desktop-title > a                                                                           1\n",
       ".first-level > a                                                                                                                                     1\n",
       "a                                                                                                                                                    1\n",
       ".main-content-container > .article-section > .articles-container > ul > li > .post-content > .categories > .level-2 > a                              1\n",
       ".main-content-container > .article-section > .articles-container > ul > li > .post-content > .categories > .level-3 > a                              1\n",
       ".no-js > .archive > .footer > .footer-container > .footer-grid > .main > .float-left > .logo                                                         1\n",
       "Name: count, dtype: int64"
      ]
     },
     "execution_count": 11,
     "metadata": {},
     "output_type": "execute_result"
    }
   ],
   "source": [
    "alist.apply(get_css_selector_for_element).value_counts()\n",
    "# right one is #archive-main-content > div"
   ]
  },
  {
   "cell_type": "code",
   "execution_count": 12,
   "id": "1a32bb8d",
   "metadata": {},
   "outputs": [
    {
     "data": {
      "text/plain": [
       "'https://unwire.hk/2009/01/07/'"
      ]
     },
     "execution_count": 12,
     "metadata": {},
     "output_type": "execute_result"
    }
   ],
   "source": [
    "url"
   ]
  },
  {
   "cell_type": "code",
   "execution_count": 13,
   "id": "88f17b62",
   "metadata": {},
   "outputs": [
    {
     "name": "stdout",
     "output_type": "stream",
     "text": [
      "Requirement already satisfied: selenium in /workspaces/handy-snippets-in-jupyter-notebook/.venv/lib/python3.12/site-packages (4.35.0)\n",
      "Requirement already satisfied: urllib3<3.0,>=2.5.0 in /workspaces/handy-snippets-in-jupyter-notebook/.venv/lib/python3.12/site-packages (from urllib3[socks]<3.0,>=2.5.0->selenium) (2.5.0)\n",
      "Requirement already satisfied: trio~=0.30.0 in /workspaces/handy-snippets-in-jupyter-notebook/.venv/lib/python3.12/site-packages (from selenium) (0.30.0)\n",
      "Requirement already satisfied: trio-websocket~=0.12.2 in /workspaces/handy-snippets-in-jupyter-notebook/.venv/lib/python3.12/site-packages (from selenium) (0.12.2)\n",
      "Requirement already satisfied: certifi>=2025.6.15 in /workspaces/handy-snippets-in-jupyter-notebook/.venv/lib/python3.12/site-packages (from selenium) (2025.8.3)\n",
      "Requirement already satisfied: typing_extensions~=4.14.0 in /workspaces/handy-snippets-in-jupyter-notebook/.venv/lib/python3.12/site-packages (from selenium) (4.14.1)\n",
      "Requirement already satisfied: websocket-client~=1.8.0 in /workspaces/handy-snippets-in-jupyter-notebook/.venv/lib/python3.12/site-packages (from selenium) (1.8.0)\n",
      "Requirement already satisfied: attrs>=23.2.0 in /workspaces/handy-snippets-in-jupyter-notebook/.venv/lib/python3.12/site-packages (from trio~=0.30.0->selenium) (25.3.0)\n",
      "Requirement already satisfied: sortedcontainers in /workspaces/handy-snippets-in-jupyter-notebook/.venv/lib/python3.12/site-packages (from trio~=0.30.0->selenium) (2.4.0)\n",
      "Requirement already satisfied: idna in /workspaces/handy-snippets-in-jupyter-notebook/.venv/lib/python3.12/site-packages (from trio~=0.30.0->selenium) (3.10)\n",
      "Requirement already satisfied: outcome in /workspaces/handy-snippets-in-jupyter-notebook/.venv/lib/python3.12/site-packages (from trio~=0.30.0->selenium) (1.3.0.post0)\n",
      "Requirement already satisfied: sniffio>=1.3.0 in /workspaces/handy-snippets-in-jupyter-notebook/.venv/lib/python3.12/site-packages (from trio~=0.30.0->selenium) (1.3.1)\n",
      "Requirement already satisfied: wsproto>=0.14 in /workspaces/handy-snippets-in-jupyter-notebook/.venv/lib/python3.12/site-packages (from trio-websocket~=0.12.2->selenium) (1.2.0)\n",
      "Requirement already satisfied: pysocks!=1.5.7,<2.0,>=1.5.6 in /workspaces/handy-snippets-in-jupyter-notebook/.venv/lib/python3.12/site-packages (from urllib3[socks]<3.0,>=2.5.0->selenium) (1.7.1)\n",
      "Requirement already satisfied: h11<1,>=0.9.0 in /workspaces/handy-snippets-in-jupyter-notebook/.venv/lib/python3.12/site-packages (from wsproto>=0.14->trio-websocket~=0.12.2->selenium) (0.16.0)\n"
     ]
    },
    {
     "ename": "WebDriverException",
     "evalue": "Message: Process unexpectedly closed with status 255\n",
     "output_type": "error",
     "traceback": [
      "\u001b[31m---------------------------------------------------------------------------\u001b[39m",
      "\u001b[31mWebDriverException\u001b[39m                        Traceback (most recent call last)",
      "\u001b[36mCell\u001b[39m\u001b[36m \u001b[39m\u001b[32mIn[13]\u001b[39m\u001b[32m, line 8\u001b[39m\n\u001b[32m      5\u001b[39m \u001b[38;5;28;01mfrom\u001b[39;00m\u001b[38;5;250m \u001b[39m\u001b[34;01mselenium\u001b[39;00m\u001b[34;01m.\u001b[39;00m\u001b[34;01mwebdriver\u001b[39;00m\u001b[34;01m.\u001b[39;00m\u001b[34;01msupport\u001b[39;00m\u001b[38;5;250m \u001b[39m\u001b[38;5;28;01mimport\u001b[39;00m expected_conditions \u001b[38;5;28;01mas\u001b[39;00m EC\n\u001b[32m      6\u001b[39m \u001b[38;5;28;01mimport\u001b[39;00m\u001b[38;5;250m \u001b[39m\u001b[34;01mtime\u001b[39;00m\n\u001b[32m----> \u001b[39m\u001b[32m8\u001b[39m driver = \u001b[43mwebdriver\u001b[49m\u001b[43m.\u001b[49m\u001b[43mFirefox\u001b[49m\u001b[43m(\u001b[49m\u001b[43m)\u001b[49m\n\u001b[32m      9\u001b[39m driver.get(url)\n\u001b[32m     10\u001b[39m time.sleep(\u001b[32m3\u001b[39m)\n",
      "\u001b[36mFile \u001b[39m\u001b[32m/workspaces/handy-snippets-in-jupyter-notebook/.venv/lib/python3.12/site-packages/selenium/webdriver/firefox/webdriver.py:72\u001b[39m, in \u001b[36mWebDriver.__init__\u001b[39m\u001b[34m(self, options, service, keep_alive)\u001b[39m\n\u001b[32m     65\u001b[39m executor = FirefoxRemoteConnection(\n\u001b[32m     66\u001b[39m     remote_server_addr=\u001b[38;5;28mself\u001b[39m.service.service_url,\n\u001b[32m     67\u001b[39m     keep_alive=keep_alive,\n\u001b[32m     68\u001b[39m     ignore_proxy=options._ignore_local_proxy,\n\u001b[32m     69\u001b[39m )\n\u001b[32m     71\u001b[39m \u001b[38;5;28;01mtry\u001b[39;00m:\n\u001b[32m---> \u001b[39m\u001b[32m72\u001b[39m     \u001b[38;5;28;43msuper\u001b[39;49m\u001b[43m(\u001b[49m\u001b[43m)\u001b[49m\u001b[43m.\u001b[49m\u001b[34;43m__init__\u001b[39;49m\u001b[43m(\u001b[49m\u001b[43mcommand_executor\u001b[49m\u001b[43m=\u001b[49m\u001b[43mexecutor\u001b[49m\u001b[43m,\u001b[49m\u001b[43m \u001b[49m\u001b[43moptions\u001b[49m\u001b[43m=\u001b[49m\u001b[43moptions\u001b[49m\u001b[43m)\u001b[49m\n\u001b[32m     73\u001b[39m \u001b[38;5;28;01mexcept\u001b[39;00m \u001b[38;5;167;01mException\u001b[39;00m:\n\u001b[32m     74\u001b[39m     \u001b[38;5;28mself\u001b[39m.quit()\n",
      "\u001b[36mFile \u001b[39m\u001b[32m/workspaces/handy-snippets-in-jupyter-notebook/.venv/lib/python3.12/site-packages/selenium/webdriver/remote/webdriver.py:263\u001b[39m, in \u001b[36mWebDriver.__init__\u001b[39m\u001b[34m(self, command_executor, keep_alive, file_detector, options, locator_converter, web_element_cls, client_config)\u001b[39m\n\u001b[32m    261\u001b[39m \u001b[38;5;28mself\u001b[39m._authenticator_id = \u001b[38;5;28;01mNone\u001b[39;00m\n\u001b[32m    262\u001b[39m \u001b[38;5;28mself\u001b[39m.start_client()\n\u001b[32m--> \u001b[39m\u001b[32m263\u001b[39m \u001b[38;5;28;43mself\u001b[39;49m\u001b[43m.\u001b[49m\u001b[43mstart_session\u001b[49m\u001b[43m(\u001b[49m\u001b[43mcapabilities\u001b[49m\u001b[43m)\u001b[49m\n\u001b[32m    264\u001b[39m \u001b[38;5;28mself\u001b[39m._fedcm = FedCM(\u001b[38;5;28mself\u001b[39m)\n\u001b[32m    266\u001b[39m \u001b[38;5;28mself\u001b[39m._websocket_connection = \u001b[38;5;28;01mNone\u001b[39;00m\n",
      "\u001b[36mFile \u001b[39m\u001b[32m/workspaces/handy-snippets-in-jupyter-notebook/.venv/lib/python3.12/site-packages/selenium/webdriver/remote/webdriver.py:366\u001b[39m, in \u001b[36mWebDriver.start_session\u001b[39m\u001b[34m(self, capabilities)\u001b[39m\n\u001b[32m    364\u001b[39m caps = _create_caps(capabilities)\n\u001b[32m    365\u001b[39m \u001b[38;5;28;01mtry\u001b[39;00m:\n\u001b[32m--> \u001b[39m\u001b[32m366\u001b[39m     response = \u001b[38;5;28;43mself\u001b[39;49m\u001b[43m.\u001b[49m\u001b[43mexecute\u001b[49m\u001b[43m(\u001b[49m\u001b[43mCommand\u001b[49m\u001b[43m.\u001b[49m\u001b[43mNEW_SESSION\u001b[49m\u001b[43m,\u001b[49m\u001b[43m \u001b[49m\u001b[43mcaps\u001b[49m\u001b[43m)\u001b[49m[\u001b[33m\"\u001b[39m\u001b[33mvalue\u001b[39m\u001b[33m\"\u001b[39m]\n\u001b[32m    367\u001b[39m     \u001b[38;5;28mself\u001b[39m.session_id = response.get(\u001b[33m\"\u001b[39m\u001b[33msessionId\u001b[39m\u001b[33m\"\u001b[39m)\n\u001b[32m    368\u001b[39m     \u001b[38;5;28mself\u001b[39m.caps = response.get(\u001b[33m\"\u001b[39m\u001b[33mcapabilities\u001b[39m\u001b[33m\"\u001b[39m)\n",
      "\u001b[36mFile \u001b[39m\u001b[32m/workspaces/handy-snippets-in-jupyter-notebook/.venv/lib/python3.12/site-packages/selenium/webdriver/remote/webdriver.py:458\u001b[39m, in \u001b[36mWebDriver.execute\u001b[39m\u001b[34m(self, driver_command, params)\u001b[39m\n\u001b[32m    455\u001b[39m response = cast(RemoteConnection, \u001b[38;5;28mself\u001b[39m.command_executor).execute(driver_command, params)\n\u001b[32m    457\u001b[39m \u001b[38;5;28;01mif\u001b[39;00m response:\n\u001b[32m--> \u001b[39m\u001b[32m458\u001b[39m     \u001b[38;5;28;43mself\u001b[39;49m\u001b[43m.\u001b[49m\u001b[43merror_handler\u001b[49m\u001b[43m.\u001b[49m\u001b[43mcheck_response\u001b[49m\u001b[43m(\u001b[49m\u001b[43mresponse\u001b[49m\u001b[43m)\u001b[49m\n\u001b[32m    459\u001b[39m     response[\u001b[33m\"\u001b[39m\u001b[33mvalue\u001b[39m\u001b[33m\"\u001b[39m] = \u001b[38;5;28mself\u001b[39m._unwrap_value(response.get(\u001b[33m\"\u001b[39m\u001b[33mvalue\u001b[39m\u001b[33m\"\u001b[39m, \u001b[38;5;28;01mNone\u001b[39;00m))\n\u001b[32m    460\u001b[39m     \u001b[38;5;28;01mreturn\u001b[39;00m response\n",
      "\u001b[36mFile \u001b[39m\u001b[32m/workspaces/handy-snippets-in-jupyter-notebook/.venv/lib/python3.12/site-packages/selenium/webdriver/remote/errorhandler.py:232\u001b[39m, in \u001b[36mErrorHandler.check_response\u001b[39m\u001b[34m(self, response)\u001b[39m\n\u001b[32m    230\u001b[39m         alert_text = value[\u001b[33m\"\u001b[39m\u001b[33malert\u001b[39m\u001b[33m\"\u001b[39m].get(\u001b[33m\"\u001b[39m\u001b[33mtext\u001b[39m\u001b[33m\"\u001b[39m)\n\u001b[32m    231\u001b[39m     \u001b[38;5;28;01mraise\u001b[39;00m exception_class(message, screen, stacktrace, alert_text)  \u001b[38;5;66;03m# type: ignore[call-arg]  # mypy is not smart enough here\u001b[39;00m\n\u001b[32m--> \u001b[39m\u001b[32m232\u001b[39m \u001b[38;5;28;01mraise\u001b[39;00m exception_class(message, screen, stacktrace)\n",
      "\u001b[31mWebDriverException\u001b[39m: Message: Process unexpectedly closed with status 255\n"
     ]
    }
   ],
   "source": [
    "!pip install selenium\n",
    "from selenium import webdriver\n",
    "from selenium.webdriver.common.by import By\n",
    "from selenium.webdriver.support.ui import WebDriverWait\n",
    "from selenium.webdriver.support import expected_conditions as EC\n",
    "import time\n",
    "\n",
    "driver = webdriver.Firefox()\n",
    "driver.get(url)\n",
    "time.sleep(3)\n",
    "html = driver.page_source\n",
    "driver.quit()   "
   ]
  },
  {
   "cell_type": "code",
   "execution_count": null,
   "id": "2720df61",
   "metadata": {},
   "outputs": [],
   "source": []
  }
 ],
 "metadata": {
  "kernelspec": {
   "display_name": ".venv",
   "language": "python",
   "name": "python3"
  },
  "language_info": {
   "codemirror_mode": {
    "name": "ipython",
    "version": 3
   },
   "file_extension": ".py",
   "mimetype": "text/x-python",
   "name": "python",
   "nbconvert_exporter": "python",
   "pygments_lexer": "ipython3",
   "version": "3.12.1"
  }
 },
 "nbformat": 4,
 "nbformat_minor": 5
}
