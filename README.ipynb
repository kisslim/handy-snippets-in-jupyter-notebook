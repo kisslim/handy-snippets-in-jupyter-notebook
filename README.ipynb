{
 "cells": [
  {
   "cell_type": "markdown",
   "id": "61c2dd87",
   "metadata": {},
   "source": [
    "# handy-snippets-in-jupyter-notebook\n",
    "just a binder and github codespace environment serves as a gist but with CI and cloud environment.\n",
    "\n",
    "# github codespace\n",
    "\n",
    "[![Open in GitHub Codespaces](https://github.com/codespaces/badge.svg)](https://codespaces.new/kisslim/handy-snippets-in-jupyter-notebook)\n",
    "\n",
    "# binder\n",
    "\n",
    "[![Binder](https://mybinder.org/badge_logo.svg)](https://mybinder.org/v2/gh/kisslim/handy-snippets-in-jupyter-notebook/master?filepath=README.ipynb)\n",
    "\n"
   ]
  },
  {
   "cell_type": "markdown",
   "id": "79ff7557",
   "metadata": {},
   "source": []
  }
 ],
 "metadata": {
  "language_info": {
   "name": "python"
  }
 },
 "nbformat": 4,
 "nbformat_minor": 5
}
