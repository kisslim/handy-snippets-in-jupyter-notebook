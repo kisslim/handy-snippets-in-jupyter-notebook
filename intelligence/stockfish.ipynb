{
 "cells": [
  {
   "cell_type": "code",
   "execution_count": 4,
   "id": "7b6bc46e",
   "metadata": {},
   "outputs": [
    {
     "name": "stdout",
     "output_type": "stream",
     "text": [
      "Requirement already satisfied: stockfish in /usr/local/python/3.12.1/lib/python3.12/site-packages (3.28.0)\n",
      "\n",
      "\u001b[1m[\u001b[0m\u001b[34;49mnotice\u001b[0m\u001b[1;39;49m]\u001b[0m\u001b[39;49m A new release of pip is available: \u001b[0m\u001b[31;49m25.1.1\u001b[0m\u001b[39;49m -> \u001b[0m\u001b[32;49m25.2\u001b[0m\n",
      "\u001b[1m[\u001b[0m\u001b[34;49mnotice\u001b[0m\u001b[1;39;49m]\u001b[0m\u001b[39;49m To update, run: \u001b[0m\u001b[32;49mpython3 -m pip install --upgrade pip\u001b[0m\n",
      "Get:1 https://dl.yarnpkg.com/debian stable InRelease\n",
      "Get:2 https://packages.microsoft.com/repos/microsoft-ubuntu-noble-prod noble InRelease [3600 B]\n",
      "Get:3 https://repo.anaconda.com/pkgs/misc/debrepo/conda stable InRelease [3961 B]0m\u001b[33m\n",
      "Get:4 https://dl.yarnpkg.com/debian stable/main amd64 Packages [11.8 kB]       \u001b[0m\u001b[33m\u001b[33m\n",
      "Get:5 https://dl.yarnpkg.com/debian stable/main all Packages [11.8 kB]         \u001b[0m\u001b[33m\n",
      "Get:6 https://packages.microsoft.com/repos/microsoft-ubuntu-noble-prod noble/main amd64 Packages [49.4 kB]\n",
      "Get:7 https://packages.microsoft.com/repos/microsoft-ubuntu-noble-prod noble/main all Packages [643 B]\n",
      "Get:8 http://archive.ubuntu.com/ubuntu noble InRelease [256 kB]            \u001b[0m\u001b[0m\u001b[33m\u001b[33m\n",
      "Get:9 https://repo.anaconda.com/pkgs/misc/debrepo/conda stable/main amd64 Packages [4557 B]\n",
      "Get:10 http://security.ubuntu.com/ubuntu noble-security InRelease [126 kB]     \u001b[0m\u001b[33m\n",
      "Get:11 http://archive.ubuntu.com/ubuntu noble-updates InRelease [126 kB]m\u001b[33m\u001b[33m\n",
      "Get:12 http://archive.ubuntu.com/ubuntu noble-backports InRelease [126 kB]33m\u001b[33m\u001b[33m\n",
      "Get:13 http://security.ubuntu.com/ubuntu noble-security/multiverse amd64 Packages [23.0 kB]\n",
      "Get:14 http://security.ubuntu.com/ubuntu noble-security/main amd64 Packages [1363 kB]\n",
      "Get:15 http://archive.ubuntu.com/ubuntu noble/multiverse amd64 Packages [331 kB]\n",
      "Get:16 http://archive.ubuntu.com/ubuntu noble/main amd64 Packages [1808 kB]\n",
      "Get:17 http://security.ubuntu.com/ubuntu noble-security/universe amd64 Packages [1137 kB]\n",
      "Get:18 http://archive.ubuntu.com/ubuntu noble/restricted amd64 Packages [117 kB][0m\u001b[33m\u001b[33m\n",
      "Get:19 http://archive.ubuntu.com/ubuntu noble/universe amd64 Packages [19.3 MB]\u001b[0m\u001b[33m\n",
      "Get:20 http://security.ubuntu.com/ubuntu noble-security/restricted amd64 Packages [2066 kB]\n",
      "Get:21 http://archive.ubuntu.com/ubuntu noble-updates/multiverse amd64 Packages [45.2 kB][33m\u001b[33m\n",
      "Get:22 http://archive.ubuntu.com/ubuntu noble-updates/main amd64 Packages [1735 kB]\n",
      "Get:23 http://archive.ubuntu.com/ubuntu noble-updates/restricted amd64 Packages [2247 kB]\n",
      "Get:24 http://archive.ubuntu.com/ubuntu noble-updates/universe amd64 Packages [1461 kB]\n",
      "Get:25 http://archive.ubuntu.com/ubuntu noble-backports/universe amd64 Packages [35.6 kB]\n",
      "Get:26 http://archive.ubuntu.com/ubuntu noble-backports/main amd64 Packages [48.8 kB]\n",
      "Fetched 32.5 MB in 5s (6741 kB/s)[33m                        \u001b[0m\u001b[33m\u001b[33m\u001b[33m\u001b[33m\u001b[33m\n",
      "Reading package lists... Done\n",
      "Building dependency tree... Done\n",
      "Reading state information... Done\n",
      "55 packages can be upgraded. Run 'apt list --upgradable' to see them.\n",
      "Reading package lists... Done\n",
      "Building dependency tree... Done\n",
      "Reading state information... Done\n",
      "Suggested packages:\n",
      "  polyglot xboard | scid\n",
      "The following NEW packages will be installed:\n",
      "  stockfish\n",
      "0 upgraded, 1 newly installed, 0 to remove and 55 not upgraded.\n",
      "Need to get 33.5 MB of archives.\n",
      "After this operation, 40.4 MB of additional disk space will be used.\n",
      "Get:1 http://archive.ubuntu.com/ubuntu noble/universe amd64 stockfish amd64 16-1build1 [33.5 MB]\n",
      "Fetched 33.5 MB in 3s (11.8 MB/s)    \u001b[0m33m\u001b[33m\u001b[33m\u001b[33m\u001b[33m\n",
      "\n",
      "\u001b7\u001b[0;23r\u001b8\u001b[1ASelecting previously unselected package stockfish.\n",
      "(Reading database ... 58629 files and directories currently installed.)\n",
      "Preparing to unpack .../stockfish_16-1build1_amd64.deb ...\n",
      "\u001b7\u001b[24;0f\u001b[42m\u001b[30mProgress: [  0%]\u001b[49m\u001b[39m [..........................................................] \u001b8\u001b7\u001b[24;0f\u001b[42m\u001b[30mProgress: [ 20%]\u001b[49m\u001b[39m [###########...............................................] \u001b8Unpacking stockfish (16-1build1) ...\n",
      "\u001b7\u001b[24;0f\u001b[42m\u001b[30mProgress: [ 40%]\u001b[49m\u001b[39m [#######################...................................] \u001b8Setting up stockfish (16-1build1) ...\n",
      "\u001b7\u001b[24;0f\u001b[42m\u001b[30mProgress: [ 60%]\u001b[49m\u001b[39m [##################################........................] \u001b8\u001b7\u001b[24;0f\u001b[42m\u001b[30mProgress: [ 80%]\u001b[49m\u001b[39m [##############################################............] \u001b8Processing triggers for man-db (2.12.0-4build2) ...\n",
      "\n",
      "\u001b7\u001b[0;24r\u001b8\u001b[1A\u001b[J"
     ]
    }
   ],
   "source": [
    "!pip install stockfish\n",
    "!sudo apt update && sudo apt install stockfish \n",
    "from stockfish import Stockfish"
   ]
  },
  {
   "cell_type": "code",
   "execution_count": 5,
   "id": "11d25378",
   "metadata": {},
   "outputs": [],
   "source": [
    "engine = Stockfish(path=\"/usr/games/stockfish\")"
   ]
  },
  {
   "cell_type": "code",
   "execution_count": 6,
   "id": "1d226064",
   "metadata": {},
   "outputs": [],
   "source": [
    "engine.update_engine_parameters({\"Hash\": 2048, \"UCI_Chess960\": \"true\"}) # Gets stockfish to use a 2GB hash table, and also to play Chess960."
   ]
  },
  {
   "cell_type": "code",
   "execution_count": 7,
   "id": "a8431e61",
   "metadata": {},
   "outputs": [],
   "source": [
    "engine.set_fen_position(\"rnbqkbnr/pppp1ppp/4p3/8/4P3/8/PPPP1PPP/RNBQKBNR w KQkq - 0 2\")"
   ]
  },
  {
   "cell_type": "code",
   "execution_count": 8,
   "id": "3cf09620",
   "metadata": {},
   "outputs": [
    {
     "data": {
      "text/plain": [
       "'d2d4'"
      ]
     },
     "execution_count": 8,
     "metadata": {},
     "output_type": "execute_result"
    }
   ],
   "source": [
    "engine.get_best_move()"
   ]
  },
  {
   "cell_type": "code",
   "execution_count": 9,
   "id": "12317c22",
   "metadata": {},
   "outputs": [
    {
     "data": {
      "text/plain": [
       "'d2d4'"
      ]
     },
     "execution_count": 9,
     "metadata": {},
     "output_type": "execute_result"
    }
   ],
   "source": [
    "engine.get_best_move(wtime=1000, btime=1000)"
   ]
  },
  {
   "cell_type": "code",
   "execution_count": 10,
   "id": "9861ce4e",
   "metadata": {},
   "outputs": [
    {
     "data": {
      "text/plain": [
       "True"
      ]
     },
     "execution_count": 10,
     "metadata": {},
     "output_type": "execute_result"
    }
   ],
   "source": [
    "engine.is_move_correct('a2a3')"
   ]
  },
  {
   "cell_type": "code",
   "execution_count": 16,
   "id": "151698de",
   "metadata": {},
   "outputs": [
    {
     "data": {
      "text/plain": [
       "[{'Move': 'd2d4', 'Centipawn': 36, 'Mate': None},\n",
       " {'Move': 'b1c3', 'Centipawn': 36, 'Mate': None},\n",
       " {'Move': 'g1f3', 'Centipawn': 22, 'Mate': None},\n",
       " {'Move': 'd1e2', 'Centipawn': 12, 'Mate': None},\n",
       " {'Move': 'c2c3', 'Centipawn': 10, 'Mate': None},\n",
       " {'Move': 'h2h3', 'Centipawn': 10, 'Mate': None},\n",
       " {'Move': 'f1e2', 'Centipawn': 1, 'Mate': None},\n",
       " {'Move': 'g2g3', 'Centipawn': 0, 'Mate': None},\n",
       " {'Move': 'd2d3', 'Centipawn': -1, 'Mate': None},\n",
       " {'Move': 'c2c4', 'Centipawn': -8, 'Mate': None},\n",
       " {'Move': 'a2a3', 'Centipawn': -9, 'Mate': None},\n",
       " {'Move': 'f1d3', 'Centipawn': -10, 'Mate': None},\n",
       " {'Move': 'e4e5', 'Centipawn': -10, 'Mate': None},\n",
       " {'Move': 'a2a4', 'Centipawn': -17, 'Mate': None},\n",
       " {'Move': 'h2h4', 'Centipawn': -18, 'Mate': None},\n",
       " {'Move': 'f2f4', 'Centipawn': -19, 'Mate': None},\n",
       " {'Move': 'b2b3', 'Centipawn': -22, 'Mate': None},\n",
       " {'Move': 'f1b5', 'Centipawn': -24, 'Mate': None},\n",
       " {'Move': 'g1e2', 'Centipawn': -24, 'Mate': None},\n",
       " {'Move': 'f1c4', 'Centipawn': -29, 'Mate': None},\n",
       " {'Move': 'd1f3', 'Centipawn': -30, 'Mate': None},\n",
       " {'Move': 'g1h3', 'Centipawn': -32, 'Mate': None},\n",
       " {'Move': 'b1a3', 'Centipawn': -35, 'Mate': None},\n",
       " {'Move': 'f2f3', 'Centipawn': -49, 'Mate': None},\n",
       " {'Move': 'd1h5', 'Centipawn': -49, 'Mate': None},\n",
       " {'Move': 'd1g4', 'Centipawn': -51, 'Mate': None},\n",
       " {'Move': 'e1e2', 'Centipawn': -80, 'Mate': None},\n",
       " {'Move': 'b2b4', 'Centipawn': -88, 'Mate': None},\n",
       " {'Move': 'g2g4', 'Centipawn': -98, 'Mate': None},\n",
       " {'Move': 'f1a6', 'Centipawn': -488, 'Mate': None}]"
      ]
     },
     "execution_count": 16,
     "metadata": {},
     "output_type": "execute_result"
    }
   ],
   "source": [
    "engine.get_top_moves(80)"
   ]
  },
  {
   "cell_type": "code",
   "execution_count": 17,
   "id": "6f4db9d3",
   "metadata": {},
   "outputs": [
    {
     "data": {
      "text/plain": [
       "<Piece.WHITE_ROOK: 'R'>"
      ]
     },
     "execution_count": 17,
     "metadata": {},
     "output_type": "execute_result"
    }
   ],
   "source": [
    "engine.get_what_is_on_square('a1')"
   ]
  },
  {
   "cell_type": "code",
   "execution_count": 19,
   "id": "c541ee83",
   "metadata": {},
   "outputs": [
    {
     "name": "stdout",
     "output_type": "stream",
     "text": [
      "+---+---+---+---+---+---+---+---+\n",
      "| r | n | b | q | k | b | n | r | 8\n",
      "+---+---+---+---+---+---+---+---+\n",
      "| p | p | p | p |   | p | p | p | 7\n",
      "+---+---+---+---+---+---+---+---+\n",
      "|   |   |   |   | p |   |   |   | 6\n",
      "+---+---+---+---+---+---+---+---+\n",
      "|   |   |   |   |   |   |   |   | 5\n",
      "+---+---+---+---+---+---+---+---+\n",
      "|   |   |   |   | P |   |   |   | 4\n",
      "+---+---+---+---+---+---+---+---+\n",
      "|   |   |   |   |   |   |   |   | 3\n",
      "+---+---+---+---+---+---+---+---+\n",
      "| P | P | P | P |   | P | P | P | 2\n",
      "+---+---+---+---+---+---+---+---+\n",
      "| R | N | B | Q | K | B | N | R | 1\n",
      "+---+---+---+---+---+---+---+---+\n",
      "  a   b   c   d   e   f   g   h\n",
      "\n"
     ]
    }
   ],
   "source": [
    "print(engine.get_board_visual())"
   ]
  },
  {
   "cell_type": "code",
   "execution_count": 20,
   "id": "c868090f",
   "metadata": {},
   "outputs": [
    {
     "ename": "AttributeError",
     "evalue": "'Stockfish' object has no attribute 'get_valid_moves'",
     "output_type": "error",
     "traceback": [
      "\u001b[31m---------------------------------------------------------------------------\u001b[39m",
      "\u001b[31mAttributeError\u001b[39m                            Traceback (most recent call last)",
      "\u001b[36mCell\u001b[39m\u001b[36m \u001b[39m\u001b[32mIn[20]\u001b[39m\u001b[32m, line 2\u001b[39m\n\u001b[32m      1\u001b[39m \u001b[38;5;66;03m# get all valid moves\u001b[39;00m\n\u001b[32m----> \u001b[39m\u001b[32m2\u001b[39m \u001b[43mengine\u001b[49m\u001b[43m.\u001b[49m\u001b[43mget_valid_moves\u001b[49m()\n",
      "\u001b[31mAttributeError\u001b[39m: 'Stockfish' object has no attribute 'get_valid_moves'"
     ]
    }
   ],
   "source": [
    "# get all valid moves\n",
    "engine.get_valid_moves()"
   ]
  },
  {
   "cell_type": "code",
   "execution_count": null,
   "id": "abde0d97",
   "metadata": {},
   "outputs": [],
   "source": []
  }
 ],
 "metadata": {
  "kernelspec": {
   "display_name": "Python 3 (ipykernel)",
   "language": "python",
   "name": "python3"
  }
 },
 "nbformat": 4,
 "nbformat_minor": 5
}
